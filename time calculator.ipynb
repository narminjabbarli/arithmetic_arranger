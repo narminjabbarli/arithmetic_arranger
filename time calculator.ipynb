{
 "cells": [
  {
   "cell_type": "code",
   "execution_count": null,
   "id": "c39f219c",
   "metadata": {},
   "outputs": [],
   "source": [
    "# this funtion convert hours to 0-23 range: 01:15 PM => 13:15\n",
    "\n",
    "def convert(start):\n",
    "    hour = int(start.split(':')[0])\n",
    "    minute = int(start.split(':')[1].split(' ')[0])\n",
    "    am_pm = start.split(':')[1].split(' ')[1]\n",
    "    if am_pm =='PM':\n",
    "        hour += 12\n",
    "    result = (hour, minute)\n",
    "    return result"
   ]
  },
  {
   "cell_type": "code",
   "execution_count": null,
   "id": "c7f40078",
   "metadata": {},
   "outputs": [],
   "source": [
    "def add_hours_minutes(start, duration):\n",
    "    start = convert(start)\n",
    "    start_minute = int(start[1])\n",
    "    start_hour = int(start[0])\n",
    "    duration_hour = int(duration.split(':')[0])\n",
    "    duration_minute = int(duration.split(':')[1])\n",
    "    \n",
    "    if start_minute > 59 or duration_minute > 59:\n",
    "        return 'Error, minutes must less than 60'\n",
    "    \n",
    "    add_days = 0\n",
    "    res_minutes = duration_minute + start_minute\n",
    "    res_hours = duration_hour + start_hour\n",
    "    if res_minutes>=60:\n",
    "        res_hours += 1 \n",
    "        res_minutes %= 60\n",
    "\n",
    "    res_minutes = str(res_minutes)\n",
    "    if len(res_minutes)==1:\n",
    "        res_minutes = '0'+ res_minutes\n",
    "        \n",
    "    if res_hours>=24:\n",
    "        add_days = res_hours//24\n",
    "        res_hours %= 24\n",
    "        res_hours = str(res_hours)\n",
    "\n",
    "    \n",
    "    add_days = str(add_days)\n",
    "    return [res_hours, res_minutes, add_days]"
   ]
  },
  {
   "cell_type": "code",
   "execution_count": 1,
   "id": "32eb3a57",
   "metadata": {},
   "outputs": [],
   "source": [
    "# main function\n",
    "\n",
    "def add_time(start, duration, w_day = None):\n",
    "    result = add_hours_minutes(start, duration)\n",
    "    hour = result[0] \n",
    "    minute = result[1]\n",
    "    days = result[2]\n",
    "    if days=='0':\n",
    "        days=None    \n",
    "    elif int(days)==1:\n",
    "        days = ' (next day)'\n",
    "    else:\n",
    "\n",
    "        days = f' ({days} days later)'\n",
    "    \n",
    "    am_pm = 'AM'\n",
    "    if int(hour)>=12:\n",
    "        hour = str(int(hour)-12)\n",
    "        am_pm = 'PM'\n",
    "    else:\n",
    "        am_pm = 'AM'\n",
    "    if hour =='0':\n",
    "        hour = '12'\n",
    "        \n",
    "\n",
    "    if days == None and w_day == None:\n",
    "        new_time = str(hour)+':'+ str(minute)+' '+am_pm\n",
    "    elif days != None and w_day ==None:\n",
    "        new_time = str(hour)+':'+ str(minute)+' '+am_pm + days\n",
    "    \n",
    "\n",
    "    elif w_day != None and days != None:  \n",
    "        wk_days = (\"Monday\",\"Tuesday\",\"Wednesday\",\"Thursday\",\"Friday\",\"Saturday\",\"Sunday\")\n",
    "        wk_d = wk_days.index(w_day.lower().capitalize()) + int(result[2])\n",
    "        wk_d_no = wk_d%7\n",
    "        new_time = str(hour)+':'+ str(minute)+' '+am_pm +', ' + wk_days[wk_d_no] + days\n",
    "    else:\n",
    "        wk_days = (\"Monday\",\"Tuesday\",\"Wednesday\",\"Thursday\",\"Friday\",\"Saturday\",\"Sunday\")\n",
    "        wk_d = wk_days.index(w_day.lower().capitalize()) + int(result[2])\n",
    "        wk_d_no = wk_d%7\n",
    "        new_time = str(hour)+':'+ str(minute)+' '+am_pm +', ' + wk_days[wk_d_no]\n",
    "\n",
    "    return new_time"
   ]
  },
  {
   "cell_type": "code",
   "execution_count": 2,
   "id": "ac6a2f18",
   "metadata": {
    "scrolled": true
   },
   "outputs": [
    {
     "data": {
      "text/plain": [
       "'7:42 AM (9 days later)'"
      ]
     },
     "execution_count": 2,
     "metadata": {},
     "output_type": "execute_result"
    }
   ],
   "source": [
    "add_time(\"6:30 PM\", \"205:12\")\n",
    "# Returns: 7:42 AM (9 days later)"
   ]
  },
  {
   "cell_type": "code",
   "execution_count": 3,
   "id": "daa9a999",
   "metadata": {},
   "outputs": [
    {
     "data": {
      "text/plain": [
       "'6:10 PM'"
      ]
     },
     "execution_count": 3,
     "metadata": {},
     "output_type": "execute_result"
    }
   ],
   "source": [
    "add_time(\"3:00 PM\", \"3:10\")\n",
    "# Returns: 6:10 PM"
   ]
  },
  {
   "cell_type": "code",
   "execution_count": 4,
   "id": "b9fea54e",
   "metadata": {},
   "outputs": [
    {
     "data": {
      "text/plain": [
       "'2:02 PM, Monday'"
      ]
     },
     "execution_count": 4,
     "metadata": {},
     "output_type": "execute_result"
    }
   ],
   "source": [
    "add_time(\"11:30 AM\", \"2:32\", \"Monday\")\n",
    "# Returns: 2:02 PM, Monday"
   ]
  },
  {
   "cell_type": "code",
   "execution_count": 5,
   "id": "4916a2be",
   "metadata": {},
   "outputs": [
    {
     "data": {
      "text/plain": [
       "'12:03 PM'"
      ]
     },
     "execution_count": 5,
     "metadata": {},
     "output_type": "execute_result"
    }
   ],
   "source": [
    "add_time(\"11:43 AM\", \"00:20\")\n",
    "# Returns: 12:03 PM"
   ]
  },
  {
   "cell_type": "code",
   "execution_count": 6,
   "id": "57799d67",
   "metadata": {},
   "outputs": [
    {
     "data": {
      "text/plain": [
       "'1:40 AM (next day)'"
      ]
     },
     "execution_count": 6,
     "metadata": {},
     "output_type": "execute_result"
    }
   ],
   "source": [
    "add_time(\"10:10 PM\", \"3:30\")\n",
    "# Returns: 1:40 AM (next day)"
   ]
  },
  {
   "cell_type": "code",
   "execution_count": 7,
   "id": "9a921e25",
   "metadata": {},
   "outputs": [
    {
     "data": {
      "text/plain": [
       "'12:03 AM, Thursday (2 days later)'"
      ]
     },
     "execution_count": 7,
     "metadata": {},
     "output_type": "execute_result"
    }
   ],
   "source": [
    "add_time(\"11:43 PM\", \"24:20\", \"tueSday\")\n",
    "# Returns: 12:03 AM, Thursday (2 days later)"
   ]
  }
 ],
 "metadata": {
  "kernelspec": {
   "display_name": "Python 3 (ipykernel)",
   "language": "python",
   "name": "python3"
  },
  "language_info": {
   "codemirror_mode": {
    "name": "ipython",
    "version": 3
   },
   "file_extension": ".py",
   "mimetype": "text/x-python",
   "name": "python",
   "nbconvert_exporter": "python",
   "pygments_lexer": "ipython3",
   "version": "3.9.6"
  }
 },
 "nbformat": 4,
 "nbformat_minor": 5
}
