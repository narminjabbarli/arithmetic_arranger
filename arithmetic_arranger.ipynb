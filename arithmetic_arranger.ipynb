{
 "cells": [
  {
   "cell_type": "code",
   "execution_count": 2,
   "id": "e2027551",
   "metadata": {},
   "outputs": [],
   "source": [
    "import re\n",
    "        \n",
    "def arithmetic_arranger(problems, solve=False):\n",
    "    if (len(problems) > 5):\n",
    "            return \"Error: Too many problems.\"\n",
    "\n",
    "    first = \"\"\n",
    "    second = \"\"\n",
    "    lines = \"\"\n",
    "    # result of problem\n",
    "    sumx = \"\"\n",
    "    # latest result\n",
    "    string = \"\"\n",
    "    \n",
    "    for problem in problems:\n",
    "        \n",
    "        if (re.search(\"[^\\s0-9.+-]\", problem)):\n",
    "            \n",
    "            if (re.search(\"[/]\", problem) or re.search(\"[*]\", problem)):\n",
    "                \n",
    "                return \"Error: Operator must be '+' or '-'.\"\n",
    "            \n",
    "            return \"Error: Numbers must only contain digits.\"\n",
    "\n",
    "        firstNumber = problem.split(\" \")[0]\n",
    "        operator = problem.split(\" \")[1]\n",
    "        secondNumber = problem.split(\" \")[2]\n",
    "\n",
    "        if (len(firstNumber) >= 5 or len(secondNumber) >= 5):\n",
    "            return \"Error: Numbers cannot be more than four digits.\"\n",
    "\n",
    "\n",
    "        len_dashes = max(len(firstNumber), len(secondNumber))+2\n",
    "        res = str(eval(problem))\n",
    "        first_num = str(firstNumber).rjust(len_dashes)\n",
    "        second_num = operator + str(secondNumber).rjust(len_dashes - 1)\n",
    "        result = str(res).rjust(len_dashes)\n",
    "\n",
    "        if problem != problems[-1]:\n",
    "            first += first_num + '    '\n",
    "            second += second_num + '    '\n",
    "            lines += len_dashes*'-' + '    '\n",
    "            sumx += result + '    '\n",
    "        else:\n",
    "            first += first_num\n",
    "            second += second_num\n",
    "            lines += len_dashes*'-'\n",
    "            sumx += result\n",
    "    # if user does not enter solve as True then function just prints problems        \n",
    "    if solve:\n",
    "        string = first + \"\\n\" + second + \"\\n\" + lines + \"\\n\" + sumx\n",
    "    else:\n",
    "        string = first + \"\\n\" + second + \"\\n\" + lines\n",
    "    return string\n",
    "\n"
   ]
  },
  {
   "cell_type": "code",
   "execution_count": 3,
   "id": "86ed2a51",
   "metadata": {},
   "outputs": [
    {
     "name": "stdout",
     "output_type": "stream",
     "text": [
      "  1         1\n",
      "+ 2    - 9380\n",
      "---    ------\n"
     ]
    }
   ],
   "source": [
    "print(arithmetic_arranger(['1 + 2', '1 - 9380']))"
   ]
  },
  {
   "cell_type": "code",
   "execution_count": 4,
   "id": "145bd9fd",
   "metadata": {},
   "outputs": [
    {
     "name": "stdout",
     "output_type": "stream",
     "text": [
      "  1         1\n",
      "+ 2    - 9380\n",
      "---    ------\n",
      "  3     -9379\n"
     ]
    }
   ],
   "source": [
    "print(arithmetic_arranger(['1 + 2', '1 - 9380'], True))"
   ]
  },
  {
   "cell_type": "code",
   "execution_count": null,
   "id": "cb76acd9",
   "metadata": {},
   "outputs": [],
   "source": []
  }
 ],
 "metadata": {
  "kernelspec": {
   "display_name": "Python 3 (ipykernel)",
   "language": "python",
   "name": "python3"
  },
  "language_info": {
   "codemirror_mode": {
    "name": "ipython",
    "version": 3
   },
   "file_extension": ".py",
   "mimetype": "text/x-python",
   "name": "python",
   "nbconvert_exporter": "python",
   "pygments_lexer": "ipython3",
   "version": "3.9.6"
  }
 },
 "nbformat": 4,
 "nbformat_minor": 5
}
