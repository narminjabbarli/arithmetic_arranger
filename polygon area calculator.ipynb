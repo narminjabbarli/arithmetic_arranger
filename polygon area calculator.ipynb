{
 "cells": [
  {
   "cell_type": "code",
   "execution_count": 1,
   "id": "c3869ec9",
   "metadata": {},
   "outputs": [],
   "source": [
    "class Rectangle:\n",
    "    def __init__(self, width, height):\n",
    "        self.width = width\n",
    "        self.height = height\n",
    "\n",
    "    def __str__(self):\n",
    "        return f'Rectangle(width={self.width}, height={self.height})'\n",
    "\n",
    "    def set_width(self, width):\n",
    "        self.width =  width\n",
    "        \n",
    "    def set_height(self, height):\n",
    "        self.height =  height\n",
    "\n",
    "    def get_area(self):\n",
    "        return self.width* self.height\n",
    "\n",
    "    def get_perimeter(self):\n",
    "        return (self.width+self.height)*2\n",
    "\n",
    "    def get_diagonal(self):\n",
    "        return  ((self.width ** 2 + self.height ** 2) ** 0.5)\n",
    "\n",
    "    def get_picture(self):\n",
    "        pic = ''\n",
    "        if self.width>50 or self.height>50:\n",
    "            return \"Too big for picture.\"\n",
    "        else :            \n",
    "            pic += ('*'*self.width+'\\n')*self.height\n",
    "        return pic\n",
    "    def get_amount_inside(self, shape):   \n",
    "        return int(self.get_area()/shape.get_area())\n",
    "\n",
    "\n",
    "\n",
    "\n",
    "class Square(Rectangle):\n",
    "\n",
    "    def __init__(self, side):\n",
    "        self.width = side\n",
    "        self.height = side\n",
    "    def __str__(self):\n",
    "        return(f'Square(side={self.width})')\n",
    "    def set_side(self, side):\n",
    "        self.width = side\n",
    "        self.height = side"
   ]
  },
  {
   "cell_type": "code",
   "execution_count": null,
   "id": "54a0c97f",
   "metadata": {},
   "outputs": [],
   "source": []
  }
 ],
 "metadata": {
  "kernelspec": {
   "display_name": "Python 3 (ipykernel)",
   "language": "python",
   "name": "python3"
  },
  "language_info": {
   "codemirror_mode": {
    "name": "ipython",
    "version": 3
   },
   "file_extension": ".py",
   "mimetype": "text/x-python",
   "name": "python",
   "nbconvert_exporter": "python",
   "pygments_lexer": "ipython3",
   "version": "3.8.3"
  }
 },
 "nbformat": 4,
 "nbformat_minor": 5
}
